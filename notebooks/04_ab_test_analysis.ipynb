{
 "cells": [
  {
   "cell_type": "markdown",
   "id": "5382cd39",
   "metadata": {},
   "source": [
    "# Week 3 · Creative A/B Test Analysis\n",
    "\n",
    "This notebook reproduces the logic bundled inside `src/pipelines/week3_ab_testing.py`.\n",
    "Use it to inspect the simulated data and statistical outputs interactively."
   ]
  },
  {
   "cell_type": "markdown",
   "id": "dce378ef",
   "metadata": {},
   "source": [
    "## Prerequisites\n",
    "\n",
    "```bash\n",
    "python scripts/run_week3_pipeline.py\n",
    "```"
   ]
  },
  {
   "cell_type": "code",
   "execution_count": null,
   "id": "19c41f4c",
   "metadata": {},
   "outputs": [],
   "source": [
    "from pathlib import Path\n",
    "import pandas as pd\n",
    "\n",
    "from src.pipelines.week3_ab_testing import (\n",
    "    simulate_dataset,\n",
    "    load_creatives,\n",
    "    strip_learning_period,\n",
    "    summarise_metrics,\n",
    "    run_ttests,\n",
    ")\n",
    "\n",
    "data_dir = Path('data/ab_test')\n",
    "if not data_dir.exists():\n",
    "    simulate_dataset(data_dir)\n",
    "\n",
    "creative_a, creative_b = load_creatives(data_dir)"
   ]
  },
  {
   "cell_type": "code",
   "execution_count": null,
   "id": "86f3c80d",
   "metadata": {},
   "outputs": [],
   "source": [
    "creative_a.head()"
   ]
  },
  {
   "cell_type": "code",
   "execution_count": null,
   "id": "308a69d2",
   "metadata": {},
   "outputs": [],
   "source": [
    "creative_b.head()"
   ]
  },
  {
   "cell_type": "code",
   "execution_count": null,
   "id": "052804fe",
   "metadata": {},
   "outputs": [],
   "source": [
    "a_stable, b_stable = strip_learning_period(creative_a, creative_b, learning_period=7)\n",
    "summary = summarise_metrics(a_stable, b_stable)\n",
    "summary"
   ]
  },
  {
   "cell_type": "code",
   "execution_count": null,
   "id": "1ebd7594",
   "metadata": {},
   "outputs": [],
   "source": [
    "ttest = run_ttests(a_stable, b_stable)\n",
    "ttest"
   ]
  },
  {
   "cell_type": "markdown",
   "id": "b79ba20d",
   "metadata": {},
   "source": [
    "The CLI pipeline also exports: \n",
    "- `output/reports/ab_test_summary.csv`\n",
    "- `output/reports/ab_test_ttest_results.csv`\n",
    "- `output/figures/ab_test_roas_trend.png`"
   ]
  }
 ],
 "metadata": {},
 "nbformat": 4,
 "nbformat_minor": 5
}