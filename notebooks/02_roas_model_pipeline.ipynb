{
 "cells": [
  {
   "cell_type": "markdown",
   "id": "2b7f171a",
   "metadata": {},
   "source": [
    "# Week 2 · ROAS Modelling Pipeline\n",
    "\n",
    "This notebook mirrors the production pipeline under `src/pipelines/week2_roas_modeling.py`.\n",
    "It is intentionally concise so reviewers can inspect intermediate outputs without digging\n",
    "into exploratory scratch work."
   ]
  },
  {
   "cell_type": "markdown",
   "id": "a18e3f71",
   "metadata": {},
   "source": [
    "## Prerequisites\n",
    "\n",
    "```bash\n",
    "python -m venv .venv\n",
    "source .venv/bin/activate\n",
    "pip install -r requirements.txt\n",
    "python scripts/run_week1_pipeline.py  # ensures data/processed/integrated_data.csv exists\n",
    "```"
   ]
  },
  {
   "cell_type": "code",
   "execution_count": null,
   "id": "dcc1304d",
   "metadata": {},
   "outputs": [],
   "source": [
    "from pathlib import Path\n",
    "import pandas as pd\n",
    "\n",
    "from src.pipelines.week2_roas_modeling import (\n",
    "    prepare_daily_features,\n",
    "    build_feature_matrix,\n",
    "    train_residual_random_forest,\n",
    "    evaluate_predictions,\n",
    ")\n",
    "from src.pipelines.week2_roas_modeling import time_series_split_masks\n",
    "\n",
    "integrated_path = Path('data/processed/integrated_data.csv')\n",
    "integrated_path"
   ]
  },
  {
   "cell_type": "code",
   "execution_count": null,
   "id": "47095ba3",
   "metadata": {},
   "outputs": [],
   "source": [
    "integrated_df = pd.read_csv(integrated_path)\n",
    "integrated_df.head()"
   ]
  },
  {
   "cell_type": "code",
   "execution_count": null,
   "id": "20757ebd",
   "metadata": {},
   "outputs": [],
   "source": [
    "feature_df = prepare_daily_features(integrated_path)\n",
    "feature_df.head()"
   ]
  },
  {
   "cell_type": "code",
   "execution_count": null,
   "id": "606094e5",
   "metadata": {},
   "outputs": [],
   "source": [
    "X, y_resid, roas_last = build_feature_matrix(feature_df)\n",
    "train_mask, test_mask = time_series_split_masks(feature_df['date'])"
   ]
  },
  {
   "cell_type": "code",
   "execution_count": null,
   "id": "7eb20922",
   "metadata": {},
   "outputs": [],
   "source": [
    "X_train, X_test = X.iloc[train_mask], X.iloc[test_mask]\n",
    "y_train, y_test = y_resid.iloc[train_mask], y_resid.iloc[test_mask]\n",
    "roas_test_actual = feature_df.loc[test_mask, 'roas']\n",
    "roas_test_last = roas_last.iloc[test_mask]"
   ]
  },
  {
   "cell_type": "code",
   "execution_count": null,
   "id": "4afaa5eb",
   "metadata": {},
   "outputs": [],
   "source": [
    "model = train_residual_random_forest(X_train, y_train)"
   ]
  },
  {
   "cell_type": "code",
   "execution_count": null,
   "id": "b7ce39ff",
   "metadata": {},
   "outputs": [],
   "source": [
    "test_pred_resid = model.predict(X_test)\n",
    "roas_pred = roas_test_last + test_pred_resid\n",
    "metrics = evaluate_predictions(roas_test_actual, roas_pred)\n",
    "metrics"
   ]
  },
  {
   "cell_type": "markdown",
   "id": "1f875ac2",
   "metadata": {},
   "source": [
    "The residual model improves the MAE/RMSE versus the rolling baseline. See\n",
    "`output/reports/random_forest_roas_metrics.json` for the full breakdown produced\n",
    "by the CLI pipeline."
   ]
  }
 ],
 "metadata": {},
 "nbformat": 4,
 "nbformat_minor": 5
}